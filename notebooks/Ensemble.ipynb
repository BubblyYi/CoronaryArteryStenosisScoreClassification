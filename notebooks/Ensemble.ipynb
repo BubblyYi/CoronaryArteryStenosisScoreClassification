{
 "cells": [
  {
   "cell_type": "code",
   "execution_count": 27,
   "metadata": {},
   "outputs": [],
   "source": [
    "import torch\n",
    "from torchvision import transforms\n",
    "import torch.nn.functional as F\n",
    "from torch.utils.data import DataLoader\n",
    "\n",
    "from datasets.mpr_dataset import MPR_Dataset,MPR_Dataset_H5\n",
    "from tqdm import tqdm_notebook as tqdm\n",
    "import yaml\n",
    "import re\n",
    "import os\n",
    "import cv2\n",
    "import copy\n",
    "import matplotlib.pyplot as plt\n",
    "import pandas as pd\n",
    "import numpy as np\n",
    "\n",
    "from imblearn.pipeline import make_pipeline\n",
    "from imblearn.over_sampling import ADASYN\n",
    "from imblearn.over_sampling import (SMOTE, BorderlineSMOTE, SVMSMOTE, SMOTENC,\n",
    "                                    KMeansSMOTE)\n",
    "from imblearn.over_sampling import RandomOverSampler\n",
    "from imblearn.base import BaseSampler\n",
    "from imblearn.ensemble import BalancedRandomForestClassifier\n",
    "\n",
    "from models import ShuffleNetv2\n",
    "\n",
    "from sklearn.metrics import accuracy_score, f1_score\n",
    "from sklearn.model_selection import train_test_split\n",
    "from sklearn.metrics import classification_report\n",
    "\n",
    "import xgboost as xgb\n",
    "from sklearn import svm\n",
    "from sklearn.discriminant_analysis import LinearDiscriminantAnalysis\n",
    "from sklearn.neighbors import KNeighborsClassifier\n",
    "from sklearn.naive_bayes import GaussianNB\n",
    "from sklearn.tree import DecisionTreeClassifier\n",
    "from sklearn.svm import SVC\n",
    "from sklearn.linear_model import LogisticRegression\n",
    "\n",
    "import lightgbm as lgb\n",
    "from imblearn.datasets import make_imbalance\n",
    "\n",
    "from imblearn.over_sampling import RandomOverSampler\n",
    "from imblearn.under_sampling import RandomUnderSampler\n",
    "from imblearn.under_sampling import TomekLinks"
   ]
  },
  {
   "cell_type": "code",
   "execution_count": 28,
   "metadata": {},
   "outputs": [],
   "source": [
    "def convert_string_to_np_array(inp_str):\n",
    "    numeric_const_pattern = '[-+]? (?: (?: \\d* \\. \\d+ ) | (?: \\d+ \\.? ) )(?: [Ee] [+-]? \\d+ ) ?'\n",
    "    rx = re.compile(numeric_const_pattern, re.VERBOSE)\n",
    "\n",
    "    return np.array([float(x) for x in rx.findall(inp_str)])"
   ]
  },
  {
   "cell_type": "code",
   "execution_count": 109,
   "metadata": {},
   "outputs": [
    {
     "data": {
      "text/plain": [
       "array([[0.        , 0.02234709, 0.33575267, ..., 0.01150393, 0.0216682 ,\n",
       "        0.04091497],\n",
       "       [0.        , 0.03357688, 0.2650786 , ..., 0.01008779, 0.02029465,\n",
       "        0.00398292],\n",
       "       [0.        , 0.01345642, 0.4170723 , ..., 0.00416241, 0.00879239,\n",
       "        0.03068803],\n",
       "       [0.        , 0.02663072, 0.27257687, ..., 0.02410608, 0.00919888,\n",
       "        0.00100142],\n",
       "       [0.        , 0.02283991, 0.3043465 , ..., 0.00242686, 0.02025953,\n",
       "        0.01311954]], dtype=float32)"
      ]
     },
     "execution_count": 109,
     "metadata": {},
     "output_type": "execute_result"
    }
   ],
   "source": [
    "np.stack(train_df['PRED'][:5])"
   ]
  },
  {
   "cell_type": "markdown",
   "metadata": {},
   "source": [
    "# Data Loading"
   ]
  },
  {
   "cell_type": "code",
   "execution_count": 117,
   "metadata": {},
   "outputs": [],
   "source": [
    "train_mean = np.stack(train_df['PRED']).mean()\n",
    "train_std = np.stack(train_df['PRED']).std()"
   ]
  },
  {
   "cell_type": "code",
   "execution_count": 118,
   "metadata": {},
   "outputs": [],
   "source": [
    "def normalize(vector, mean, std):\n",
    "    return (vector - mean) / std"
   ]
  },
  {
   "cell_type": "code",
   "execution_count": 130,
   "metadata": {},
   "outputs": [],
   "source": [
    "example = train_df['PRED'][0]\n",
    "norm_example= normalize(train_df['PRED'][0], train_df['PRED'][0].mean(), train_df['PRED'][0].std())\n"
   ]
  },
  {
   "cell_type": "code",
   "execution_count": 131,
   "metadata": {},
   "outputs": [
    {
     "data": {
      "text/plain": [
       "-1.0369906"
      ]
     },
     "execution_count": 131,
     "metadata": {},
     "output_type": "execute_result"
    }
   ],
   "source": [
    "norm_example.min()"
   ]
  },
  {
   "cell_type": "code",
   "execution_count": 132,
   "metadata": {
    "scrolled": false
   },
   "outputs": [
    {
     "name": "stdout",
     "output_type": "stream",
     "text": [
      "\n"
     ]
    },
    {
     "data": {
      "image/png": "[encoded data removed]",
      "text/plain": [
       "<Figure size 432x288 with 1 Axes>"
      ]
     },
     "metadata": {
      "needs_background": "light"
     },
     "output_type": "display_data"
    },
    {
     "data": {
      "image/png": "[encoded data removed]",
      "text/plain": [
       "<Figure size 432x288 with 1 Axes>"
      ]
     },
     "metadata": {
      "needs_background": "light"
     },
     "output_type": "display_data"
    }
   ],
   "source": [
    "plt.hist(example) #calculating histogram\n",
    "plt.figure()\n",
    "plt.hist(norm_example) #calculating histogram\n",
    "\n",
    "print()"
   ]
  },
  {
   "cell_type": "code",
   "execution_count": 78,
   "metadata": {},
   "outputs": [
    {
     "data": {
      "text/plain": [
       "0.093955055"
      ]
     },
     "execution_count": 78,
     "metadata": {},
     "output_type": "execute_result"
    }
   ],
   "source": [
    "train_df['PRED'][0].mean()"
   ]
  },
  {
   "cell_type": "code",
   "execution_count": 53,
   "metadata": {},
   "outputs": [
    {
     "data": {
      "text/plain": [
       "0.09060357"
      ]
     },
     "execution_count": 53,
     "metadata": {},
     "output_type": "execute_result"
    }
   ],
   "source": [
    "np.std(train_df['PRED'])"
   ]
  },
  {
   "cell_type": "code",
   "execution_count": 139,
   "metadata": {},
   "outputs": [],
   "source": [
    "train_df = pd.read_pickle('ensemble/xgboost_train_features.csv')\n",
    "# train_df = pd.read_csv('ensemble/xgboost_train.csv')\n",
    "\n",
    "train_df.drop(['index'], axis=1, inplace=True)\n",
    "# train_df['PRED'] = train_df['PRED'].apply(convert_string_to_np_array)\n",
    "# train_df['PRED'] = train_df['PRED'].apply(np.argmax)\n",
    "train_df['PRED'] = train_df['PRED'].apply(np.mean)\n",
    "test_df = pd.read_pickle('ensemble/xgboost_test_features.csv')\n",
    "# test_df = pd.read_csv('ensemble/xgboost_test.csv')\n",
    "\n",
    "test_df.drop(['index'], axis=1, inplace=True)\n",
    "# test_df['PRED'] = test_df['PRED'].apply(convert_string_to_np_array)\n",
    "# test_df['PRED'] = test_df['PRED'].apply(np.argmax)\n",
    "test_df['PRED'] = test_df['PRED'].apply(np.mean)"
   ]
  },
  {
   "cell_type": "code",
   "execution_count": 166,
   "metadata": {},
   "outputs": [
    {
     "data": {
      "text/plain": [
       "{'D-1': Int64Index([450, 451, 452, 453, 454, 455, 456, 457, 458, 459, 460, 461, 462,\n",
       "             463, 464, 465, 466, 467, 468, 469, 470, 471, 472, 473, 474, 475,\n",
       "             476, 477, 478, 479, 480, 481, 482, 483, 484, 485, 486, 487, 488,\n",
       "             489, 490, 491, 492, 493, 494, 495, 496, 497, 498, 499],\n",
       "            dtype='int64'),\n",
       " 'LAD': Int64Index([350, 351, 352, 353, 354, 355, 356, 357, 358, 359, 360, 361, 362,\n",
       "             363, 364, 365, 366, 367, 368, 369, 370, 371, 372, 373, 374, 375,\n",
       "             376, 377, 378, 379, 380, 381, 382, 383, 384, 385, 386, 387, 388,\n",
       "             389, 390, 391, 392, 393, 394, 395, 396, 397, 398, 399],\n",
       "            dtype='int64'),\n",
       " 'LCX': Int64Index([300, 301, 302, 303, 304, 305, 306, 307, 308, 309, 310, 311, 312,\n",
       "             313, 314, 315, 316, 317, 318, 319, 320, 321, 322, 323, 324, 325,\n",
       "             326, 327, 328, 329, 330, 331, 332, 333, 334, 335, 336, 337, 338,\n",
       "             339, 340, 341, 342, 343, 344, 345, 346, 347, 348, 349],\n",
       "            dtype='int64'),\n",
       " 'PLV_RCA': Int64Index([400, 401, 402, 403, 404, 405, 406, 407, 408, 409, 410, 411, 412,\n",
       "             413, 414, 415, 416, 417, 418, 419, 420, 421, 422, 423, 424, 425,\n",
       "             426, 427, 428, 429, 430, 431, 432, 433, 434, 435, 436, 437, 438,\n",
       "             439, 440, 441, 442, 443, 444, 445, 446, 447, 448, 449],\n",
       "            dtype='int64')}"
      ]
     },
     "execution_count": 166,
     "metadata": {},
     "output_type": "execute_result"
    }
   ],
   "source": [
    "test_df[test_df['PATIENT'] == 'CTCAZHX30011957'].groupby('ARTERY_SECTION').groups"
   ]
  },
  {
   "cell_type": "code",
   "execution_count": null,
   "metadata": {},
   "outputs": [],
   "source": [
    "''"
   ]
  },
  {
   "cell_type": "markdown",
   "metadata": {},
   "source": [
    "# Aggregate the datatable"
   ]
  },
  {
   "cell_type": "code",
   "execution_count": 140,
   "metadata": {},
   "outputs": [],
   "source": [
    "def get_data(grouped_by_patients):\n",
    "    \n",
    "    X = list()\n",
    "    y = list()\n",
    "    \n",
    "    for patient in tqdm(grouped_by_patients['PATIENT'].unique()):\n",
    "        cur_patient = grouped_by_patients.get_group(patient[0])\n",
    "        grouped_by_section = cur_patient.groupby('ARTERY_SECTION')        \n",
    "\n",
    "        for section in grouped_by_section['ARTERY_SECTION'].unique():\n",
    "            all_images_per_section = grouped_by_section.get_group(section[0])\n",
    "\n",
    "            train_data = np.stack(all_images_per_section['PRED'], axis=0)\n",
    "            label = all_images_per_section['LABEL'].iloc[0]\n",
    "\n",
    "            if len(train_data) ==50:\n",
    "                X.append(train_data.ravel())\n",
    "                y.append(label)  \n",
    "    return np.stack(X), np.array(y)"
   ]
  },
  {
   "cell_type": "code",
   "execution_count": 141,
   "metadata": {},
   "outputs": [
    {
     "data": {
      "application/vnd.jupyter.widget-view+json": {
       "model_id": "5357895232844d16b8f70eab9ab3b271",
       "version_major": 2,
       "version_minor": 0
      },
      "text/plain": [
       "HBox(children=(IntProgress(value=0, max=708), HTML(value='')))"
      ]
     },
     "metadata": {},
     "output_type": "display_data"
    },
    {
     "name": "stdout",
     "output_type": "stream",
     "text": [
      "\n"
     ]
    },
    {
     "data": {
      "application/vnd.jupyter.widget-view+json": {
       "model_id": "5d5f3a77cf9643be8fc6bbcf408a2fe1",
       "version_major": 2,
       "version_minor": 0
      },
      "text/plain": [
       "HBox(children=(IntProgress(value=0, max=105), HTML(value='')))"
      ]
     },
     "metadata": {},
     "output_type": "display_data"
    },
    {
     "name": "stdout",
     "output_type": "stream",
     "text": [
      "\n"
     ]
    }
   ],
   "source": [
    "X_train, y_train = get_data(train_df.groupby('PATIENT'))\n",
    "X_test, y_test = get_data(test_df.groupby('PATIENT'))"
   ]
  },
  {
   "cell_type": "code",
   "execution_count": 142,
   "metadata": {},
   "outputs": [
    {
     "data": {
      "text/plain": [
       "((3242, 50), (3242,))"
      ]
     },
     "execution_count": 142,
     "metadata": {},
     "output_type": "execute_result"
    }
   ],
   "source": [
    "X_train.shape, y_train.shape"
   ]
  },
  {
   "cell_type": "code",
   "execution_count": 143,
   "metadata": {},
   "outputs": [
    {
     "data": {
      "text/plain": [
       "((486, 50), (486,))"
      ]
     },
     "execution_count": 143,
     "metadata": {},
     "output_type": "execute_result"
    }
   ],
   "source": [
    "X_test.shape, y_test.shape"
   ]
  },
  {
   "cell_type": "markdown",
   "metadata": {},
   "source": [
    "# Train"
   ]
  },
  {
   "cell_type": "markdown",
   "metadata": {},
   "source": [
    "# LIB FOR IMBALANCED LEARNING\n",
    "https://imbalanced-learn.readthedocs.io/en/stable/auto_examples/"
   ]
  },
  {
   "cell_type": "code",
   "execution_count": 144,
   "metadata": {},
   "outputs": [],
   "source": [
    "# model = xgb.XGBClassifier()\n",
    "# model = LinearDiscriminantAnalysis()\n",
    "# model = KNeighborsClassifier()\n",
    "# model = DecisionTreeClassifier()\n",
    "\n",
    "# 85 79 81\n",
    "# model = xgb.XGBClassifier(learning_rate=0.001, n_estimators=3, max_depth=2,\n",
    "#                     min_child_weight=2, gamma=0.2, subsample=0.6, colsample_bytree=1.0,\n",
    "#                     nthread=4, scale_pos_weight=1, seed=32)\n",
    "\n",
    "# 85 81 82\n",
    "model = xgb.XGBClassifier(learning_rate=0.0001, n_estimators=100, max_depth=4,\n",
    "                    min_child_weight=2,  subsample=0.6, colsample_bytree=1.0,\n",
    "                    nthread=4, scale_pos_weight=1, seed=42)\n",
    "# model = SVC()\n",
    "# 69 71 70 / 82 81 81 \n",
    "# model = BalancedRandomForestClassifier(max_depth=3)  # {0: 1, 1: 0.5, 2:0.4}"
   ]
  },
  {
   "cell_type": "code",
   "execution_count": 145,
   "metadata": {},
   "outputs": [
    {
     "data": {
      "text/plain": [
       "{0: 2346, 1: 2010, 2: 2260}"
      ]
     },
     "execution_count": 145,
     "metadata": {},
     "output_type": "execute_result"
    }
   ],
   "source": [
    "sampling_strategy = {0: 2346, 1:670*3, 2:226*10}\n",
    "# sampling_strategy = {0: 226, 1:226, 2:226}\n",
    "\n",
    "ros = RandomOverSampler(sampling_strategy=sampling_strategy)\n",
    "# ros = RandomUnderSampler(sampling_strategy=sampling_strategy)\n",
    "X_res, y_res = ros.fit_resample(X_train, y_train)\n",
    "\n",
    "unique, counts = np.unique(y_res, return_counts=True)\n",
    "dict(zip(unique, counts))"
   ]
  },
  {
   "cell_type": "code",
   "execution_count": 146,
   "metadata": {},
   "outputs": [
    {
     "data": {
      "text/plain": [
       "XGBClassifier(base_score=0.5, booster='gbtree', colsample_bylevel=1,\n",
       "              colsample_bynode=1, colsample_bytree=1.0, gamma=0,\n",
       "              learning_rate=0.0001, max_delta_step=0, max_depth=4,\n",
       "              min_child_weight=2, missing=None, n_estimators=100, n_jobs=1,\n",
       "              nthread=4, objective='multi:softprob', random_state=0,\n",
       "              reg_alpha=0, reg_lambda=1, scale_pos_weight=1, seed=42,\n",
       "              silent=None, subsample=0.6, verbosity=1)"
      ]
     },
     "execution_count": 146,
     "metadata": {},
     "output_type": "execute_result"
    }
   ],
   "source": [
    "# Train\n",
    "model.fit(X_res, y_res)"
   ]
  },
  {
   "cell_type": "code",
   "execution_count": 147,
   "metadata": {},
   "outputs": [],
   "source": [
    "# # LightGBM params: https://github.com/microsoft/LightGBM/blob/master/docs/Parameters.rst\n",
    "\n",
    "# param = {}\n",
    "# param['application'] = 'multiclass'\n",
    "# param['num_class'] = '3'\n",
    "# param['learning_rate'] = 0.01\n",
    "# param['feature_fraction'] = 0.4\n",
    "# param['bagging_fraction'] = 0.4\n",
    "# param['bagging_freq'] = 1\n",
    "# param['max_depth'] = 5\n",
    "# param['num_threads'] = 4\n",
    "# param[\"verbose\"] = 0\n",
    "# param[\"metric\"] = ''\n",
    "\n",
    "# lgb_train = lgb.Dataset(X_res, label=y_res)\n",
    "# lgb_val = lgb.Dataset(X_test, label=y_test)\n",
    "\n",
    "# model = lgb.train(param, lgb_train, 1000, valid_sets=[lgb_train, lgb_val], early_stopping_rounds=10,  verbose_eval=0)"
   ]
  },
  {
   "cell_type": "code",
   "execution_count": 148,
   "metadata": {},
   "outputs": [],
   "source": [
    "# # For LightGBM\n",
    "\n",
    "# y_pred = model.predict(X_train)\n",
    "# predictions = [round(np.argmax(value)) for value in y_pred]\n",
    "# accuracy = accuracy_score(y_train, predictions)\n",
    "# print('TRAIN: ')\n",
    "# print(classification_report(predictions, y_train))\n",
    "\n",
    "# y_pred = model.predict(X_test)\n",
    "# predictions = [round(np.argmax(value)) for value in y_pred]\n",
    "# print('TEST:')\n",
    "# print(classification_report(predictions, y_test))"
   ]
  },
  {
   "cell_type": "code",
   "execution_count": 149,
   "metadata": {},
   "outputs": [
    {
     "name": "stdout",
     "output_type": "stream",
     "text": [
      "TRAIN: \n",
      "              precision    recall  f1-score   support\n",
      "\n",
      "           0       0.77      0.84      0.80      2156\n",
      "           1       0.30      0.65      0.41       311\n",
      "           2       0.94      0.27      0.43       775\n",
      "\n",
      "    accuracy                           0.69      3242\n",
      "   macro avg       0.67      0.59      0.55      3242\n",
      "weighted avg       0.77      0.69      0.67      3242\n",
      "\n",
      "TEST:\n",
      "              precision    recall  f1-score   support\n",
      "\n",
      "           0       0.75      0.77      0.76       324\n",
      "           1       0.07      0.22      0.11        37\n",
      "           2       0.68      0.21      0.32       125\n",
      "\n",
      "    accuracy                           0.59       486\n",
      "   macro avg       0.50      0.40      0.40       486\n",
      "weighted avg       0.68      0.59      0.60       486\n",
      "\n"
     ]
    }
   ],
   "source": [
    "y_pred = model.predict(X_train)\n",
    "predictions = [round(value) for value in y_pred]\n",
    "accuracy = accuracy_score(y_train, predictions)\n",
    "print('TRAIN: ')\n",
    "print(classification_report(predictions, y_train))\n",
    "\n",
    "y_pred = model.predict(X_test)\n",
    "predictions = [round(value) for value in y_pred]\n",
    "print('TEST:')\n",
    "print(classification_report(predictions, y_test))"
   ]
  },
  {
   "cell_type": "code",
   "execution_count": null,
   "metadata": {},
   "outputs": [],
   "source": [
    "y_pred = model.predict(X_res)\n",
    "predictions = [round(value) for value in y_pred]\n",
    "accuracy = accuracy_score(y_res, predictions)\n",
    "print('TRAIN: ')\n",
    "print(classification_report(predictions, y_res))\n",
    "\n",
    "y_pred = model.predict(X_test)\n",
    "predictions = [round(value) for value in y_pred]\n",
    "print('TEST:')\n",
    "print(classification_report(predictions, y_test))"
   ]
  },
  {
   "cell_type": "markdown",
   "metadata": {},
   "source": [
    "# Predict on test"
   ]
  },
  {
   "cell_type": "code",
   "execution_count": 150,
   "metadata": {},
   "outputs": [
    {
     "data": {
      "application/vnd.jupyter.widget-view+json": {
       "model_id": "86455176fdb54ba5b44a2dd0bd01c3c6",
       "version_major": 2,
       "version_minor": 0
      },
      "text/plain": [
       "HBox(children=(IntProgress(value=0, max=105), HTML(value='')))"
      ]
     },
     "metadata": {},
     "output_type": "display_data"
    },
    {
     "name": "stdout",
     "output_type": "stream",
     "text": [
      "\n"
     ]
    }
   ],
   "source": [
    "grouped_by_patients = test_df.groupby('PATIENT')\n",
    "\n",
    "predicts = []\n",
    "indexes = []\n",
    "\n",
    "for patient in tqdm(grouped_by_patients['PATIENT'].unique()):\n",
    "    cur_patient = grouped_by_patients.get_group(patient[0])\n",
    "    grouped_by_section = cur_patient.groupby('ARTERY_SECTION')        \n",
    "    \n",
    "    for section in grouped_by_section['ARTERY_SECTION'].unique():\n",
    "        all_images_per_section = grouped_by_section.get_group(section[0])\n",
    "        \n",
    "        test_data = np.stack(all_images_per_section['PRED'], axis=0)\n",
    "        \n",
    "        # Predict\n",
    "        test_data = np.expand_dims(test_data.ravel(), axis=0)\n",
    "        pred = model.predict(test_data)\n",
    "        predicts += list(pred)*50\n",
    "        indexes += list(all_images_per_section.index)\n",
    "        \n",
    "test_df['PRED'] = pd.Series(data=predicts, index=indexes)"
   ]
  },
  {
   "cell_type": "code",
   "execution_count": 151,
   "metadata": {},
   "outputs": [],
   "source": [
    "def calculate_metrics(col_section, col_ids, col_preds, col_labels):\n",
    "    \"\"\"\n",
    "    Calculate final auc and f1 metrics on three levels: per patient, per section and per artery\n",
    "    :return: {dict} each metric as a key and its calculated metric as a value\n",
    "    \"\"\"\n",
    "    assert len(col_section) == len(col_ids) == len(col_preds) == len(col_labels)\n",
    "\n",
    "    metrics = {'ACC_section': 0, 'ACC_patient': 0, 'ACC_artery': 0, 'F1_section': 0, 'F1_patient': 0, 'F1_artery': 0}\n",
    "    dict_artery = {'LAD': ['D-1', 'D-2', 'LAD', 'D-3', '2D-2', 'D-1Original', 'LADOriginal', 'D-4'],\n",
    "                   'LCX': ['LCX', 'OM-2', 'OM-1', 'OM-3', 'OM', 'LCX-PLB', 'LCX-PDA', 'PLV_LCX', 'PDA_LCX'],\n",
    "                   'RCA': ['RCA', 'RCA-PLB', 'RCA-PDA', 'PLV_RCA']}\n",
    "\n",
    "    df = pd.concat([col_ids, col_section, col_preds, col_labels], axis=1)\n",
    "    df = df.rename(columns={col_section.name: 'section', col_ids.name: 'patient', col_preds.name:\n",
    "        'preds', col_labels.name: 'labels'})\n",
    "    df['artery'] = df['section'].apply(lambda x: [k for k in dict_artery.keys() if x in dict_artery[k]][0])\n",
    "    \n",
    "#     df['preds'] = df['preds'].apply(lambda x: np.argmax(x))   # for lightgbm\n",
    "    \n",
    "    # SECTION\n",
    "    section_labels = df[['preds', 'labels', 'section', 'artery', 'patient']].groupby(['patient', 'section']).agg(\n",
    "        lambda x: max(x))\n",
    "    preds_section = df[['preds', 'labels', 'section', 'artery', 'patient']].groupby(['patient', 'section']).agg(\n",
    "        lambda x: x.value_counts().index[0])\n",
    "    acc = accuracy_score(preds_section['preds'], section_labels['labels'])\n",
    "    f1 = f1_score(preds_section['preds'], section_labels['labels'], average='weighted')\n",
    "    metrics['ACC_section'], metrics['F1_section'] = acc, f1\n",
    "\n",
    "    # ARTERY\n",
    "    sect = section_labels.reset_index()\n",
    "    artery_labels = sect.groupby(['patient', 'artery']).agg(lambda x: max(x))['labels']\n",
    "    preds_artery = preds_section.reset_index().groupby(['patient', 'artery']).agg(lambda x: max(x))['preds']  \n",
    "    acc = accuracy_score(preds_artery, artery_labels)\n",
    "    f1 = f1_score(preds_artery, artery_labels, average='weighted')\n",
    "    metrics['ACC_artery'], metrics['F1_artery'] = acc, f1\n",
    "\n",
    "    # PATIENT\n",
    "    art = artery_labels.reset_index()\n",
    "    patient_labels = art.groupby(['patient']).agg(lambda x: max(x))['labels']\n",
    "    preds_patient = preds_artery.reset_index().groupby(['patient']).agg(lambda x: max(x))['preds'] \n",
    "    acc = accuracy_score(preds_patient, patient_labels)\n",
    "    f1 = f1_score(preds_patient, patient_labels, average='weighted')\n",
    "    metrics['ACC_patient'], metrics['F1_patient'] = acc, f1\n",
    "\n",
    "    return metrics"
   ]
  },
  {
   "cell_type": "code",
   "execution_count": 152,
   "metadata": {},
   "outputs": [
    {
     "data": {
      "text/plain": [
       "{'ACC_artery': 0.5528169014084507,\n",
       " 'ACC_patient': 0.3333333333333333,\n",
       " 'ACC_section': 0.5864197530864198,\n",
       " 'F1_artery': 0.5609377418356291,\n",
       " 'F1_patient': 0.38859965471454694,\n",
       " 'F1_section': 0.5972979806836968}"
      ]
     },
     "execution_count": 152,
     "metadata": {},
     "output_type": "execute_result"
    }
   ],
   "source": [
    "calculate_metrics(test_df['ARTERY_SECTION'], test_df['PATIENT'], test_df['PRED'], test_df['LABEL'])"
   ]
  },
  {
   "cell_type": "code",
   "execution_count": null,
   "metadata": {},
   "outputs": [],
   "source": [
    "calculate_metrics(test_df['ARTERY_SECTION'], test_df['PATIENT'], test_df['PRED'], test_df['LABEL'])"
   ]
  },
  {
   "cell_type": "code",
   "execution_count": null,
   "metadata": {},
   "outputs": [],
   "source": [
    "calculate_metrics(test_df['ARTERY_SECTION'], test_df['PATIENT'], test_df['PRED'], test_df['LABEL'])"
   ]
  },
  {
   "cell_type": "code",
   "execution_count": null,
   "metadata": {},
   "outputs": [],
   "source": [
    "test_df.to_csv('WIMLsubmitted_predictions.csv', index=False)"
   ]
  }
 ],
 "metadata": {
  "kernelspec": {
   "display_name": "Python 3",
   "language": "python",
   "name": "python3"
  },
  "language_info": {
   "codemirror_mode": {
    "name": "ipython",
    "version": 3
   },
   "file_extension": ".py",
   "mimetype": "text/x-python",
   "name": "python",
   "nbconvert_exporter": "python",
   "pygments_lexer": "ipython3",
   "version": "3.5.2"
  }
 },
 "nbformat": 4,
 "nbformat_minor": 2
}
