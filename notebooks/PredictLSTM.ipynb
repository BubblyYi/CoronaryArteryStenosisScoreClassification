{
 "cells": [
  {
   "cell_type": "code",
   "execution_count": 1,
   "metadata": {},
   "outputs": [],
   "source": [
    "import torch\n",
    "from torch import nn\n",
    "from torchvision import transforms\n",
    "import torch.nn.functional as F\n",
    "from torch.utils.data import DataLoader\n",
    "from datasets.mpr_dataset import MPR_Dataset,MPR_Dataset_H5, MPR_Dataset_New_Test\n",
    "from tqdm import tqdm_notebook as tqdm\n",
    "import yaml\n",
    "import pandas as pd\n",
    "import numpy as np\n",
    "from models import ShuffleNetv2\n",
    "from sklearn.metrics import accuracy_score, f1_score\n",
    "from ast import literal_eval\n",
    "# from visualize_results import label_predictions_to_images\n",
    "import os\n",
    "import cv2\n",
    "import copy\n",
    "import matplotlib.pyplot as plt\n",
    "from collections import OrderedDict\n",
    "from torch.nn.functional import softmax "
   ]
  },
  {
   "cell_type": "code",
   "execution_count": null,
   "metadata": {},
   "outputs": [],
   "source": [
    "with open('./config.yaml', 'r') as f:\n",
    "    config = yaml.load(f, Loader=yaml.FullLoader)\n",
    "\n",
    "config['device'] = 'cpu'\n",
    "root_dir = config[\"data\"][\"root_dir\"]\n",
    "transform = transforms.Compose([\n",
    "    transforms.ToTensor(),\n",
    "    # transforms.Normalize([0.485, 0.456, 0.406], [0.229, 0.224, 0.225])\n",
    "])\n",
    "\n",
    "train_dataset = MPR_Dataset_New_Test(root_dir, partition=\"train\", config=config[\"data\"], transform=transform)\n",
    "\n",
    "test_loader = DataLoader(\n",
    "    MPR_Dataset_New_Test(root_dir, partition=\"all_test_png\", config=config[\"data\"], transform=transform), shuffle=False,\n",
    "    batch_size=16)"
   ]
  }
 ],
 "metadata": {
  "kernelspec": {
   "display_name": "Python 3",
   "language": "python",
   "name": "python3"
  },
  "language_info": {
   "codemirror_mode": {
    "name": "ipython",
    "version": 3
   },
   "file_extension": ".py",
   "mimetype": "text/x-python",
   "name": "python",
   "nbconvert_exporter": "python",
   "pygments_lexer": "ipython3",
   "version": "3.5.2"
  }
 },
 "nbformat": 4,
 "nbformat_minor": 2
}
